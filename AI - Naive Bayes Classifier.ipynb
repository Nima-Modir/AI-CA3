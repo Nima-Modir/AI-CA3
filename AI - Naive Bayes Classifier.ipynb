{
 "cells": [
  {
   "cell_type": "markdown",
   "id": "5854ceef",
   "metadata": {
    "direction": "rtl"
   },
   "source": [
    "# تمرین کامپیوتری سوم - Naive Bayes Classifier\n",
    "#  نیما مدیرکیاسرایی 810198471"
   ]
  },
  {
   "cell_type": "markdown",
   "id": "bfbe2f74",
   "metadata": {
    "direction": "rtl"
   },
   "source": [
    "## هدف بازی \n",
    "<p dir=rtl style=\"direction: rtl;text-align: right;line-height:200%;font-family:vazir;font-size:medium\">\n",
    "<font face=\"vazir\"  size=3>\n",
    "در این تمرین کامپیوتری با استفاده از Naive Bayes Classifier و با استفاده از اطلاعات موجود در فایل train مدلی درست می کنیم تا بتوانیم با در نظر گرفتن محتوای هر خبر در فایل test تیتر آن خبر را پیش بینی کنیم.\n",
    "</font>\n",
    "</p>\n"
   ]
  },
  {
   "cell_type": "markdown",
   "id": "ed533a1f",
   "metadata": {
    "direction": "rtl"
   },
   "source": [
    "## فاز اول : پیش پردازش داده\n",
    "<p dir=rtl style=\"direction: rtl;text-align: right;line-height:200%;font-family:vazir;font-size:medium\">\n",
    "<font  size=3>\n",
    "در فاز اول باید اطلاعات متنی داخل مجموعه داده را برای تحلیلهای بعدی پیش پردازش کنیم. در این قسمت می توانیم از کتابخانه های hazm و parsivar استفاده کنیم که با تست کردن متدهای مختلف این دو کتابخانه ، تصمیم گرفتم تا فقط از کتابخانه hazm استفاده کنم تا پیش پردازش بهتری روی مجموعه داده انجام شود.\n",
    "در این قسمت از متد های Normalizer و Lemmatizer و word_tokenize از کتابخانه hazm استفاده می کنیم. متد Normalizer کمک به normalize کردن متن های ما می کند به عنوان مثال کلمه هایی که درون آن ها فاصله یا نیم فاصله دارد آن دو بخش را از هم جدا می کند و اگر خروجی آن را به متد Lemmatizer بدهیم می توانیم کلمه اصلی را از آن بیرون بکشیم. همچنین متد word_tokenize به عنوان ورودی یک متن می گیرد و در خروجی یک لیست را برمی گرداند که درون آن کلمه های جدا شده(tokens) متن ورودی می باشد.\n",
    "قطعه کد زیر مثالی برای استفاده از دو متد اول است.\n",
    "</font>\n",
    "</p>"
   ]
  },
  {
   "cell_type": "code",
   "execution_count": 1,
   "id": "b78dad69",
   "metadata": {},
   "outputs": [],
   "source": [
    "import pandas as pd\n",
    "import hazm\n",
    "from matplotlib import pyplot as plt\n",
    "import math"
   ]
  },
  {
   "cell_type": "code",
   "execution_count": 2,
   "id": "c18a6798",
   "metadata": {},
   "outputs": [],
   "source": [
    "hazm_normalizer = hazm.Normalizer()\n",
    "hazm_lemmatizer = hazm.Lemmatizer()\n",
    "hazm_stemmer = hazm.Stemmer()"
   ]
  },
  {
   "cell_type": "code",
   "execution_count": 3,
   "id": "b28b79dc",
   "metadata": {},
   "outputs": [
    {
     "data": {
      "text/plain": [
       "'گزارش\\u200cها'"
      ]
     },
     "execution_count": 3,
     "metadata": {},
     "output_type": "execute_result"
    }
   ],
   "source": [
    "hazm_normalizer.normalize('گزارش ها')"
   ]
  },
  {
   "cell_type": "code",
   "execution_count": 4,
   "id": "f0c29731",
   "metadata": {},
   "outputs": [
    {
     "data": {
      "text/plain": [
       "'گزارش'"
      ]
     },
     "execution_count": 4,
     "metadata": {},
     "output_type": "execute_result"
    }
   ],
   "source": [
    "hazm_lemmatizer.lemmatize('گزارش\\u200cها')"
   ]
  },
  {
   "cell_type": "code",
   "execution_count": 5,
   "id": "d741e054",
   "metadata": {},
   "outputs": [
    {
     "data": {
      "text/plain": [
       "'رف'"
      ]
     },
     "execution_count": 5,
     "metadata": {},
     "output_type": "execute_result"
    }
   ],
   "source": [
    "hazm_stemmer.stem('رفتم')"
   ]
  },
  {
   "cell_type": "markdown",
   "id": "7755b66c",
   "metadata": {
    "direction": "rtl"
   },
   "source": [
    "<p dir=rtl style=\"direction: rtl;text-align: right;line-height:200%;font-family:vazir;font-size:medium\">\n",
    "<font  size=3>\n",
    "همانطور که در قسمت بالا می بینیم در بعضی موارد متد stem به درستی کار نمی کند بنابراین تصمیم گرفتم از آن استفاده نکنم و فقط از Lemmatizer استفاده کنم.\n",
    "در پیش پردازش داده ها علاوه بر استفاده از این متد ها لیست هایی به اسم stop_punctuations و stop_words داریم که لغات و علامت هایی که نیاز داریم در این فاز از متن ها حذف شوند در آنها حضور دارند. همچنین تمامی عدد ها در متن ها را نیز حذف می کنیم چون در پیش بینی ما تاثیر خاصی ندارند.\n",
    "    \n",
    "1) متد stemming ریشه کلمات را در می آورد به عنوان مثال اگر به ورودی آن کلمه \"خوردم\" را بدهیم ، در خروجی کلمه \"خورد\" را بر می گرداند.\n",
    "متد Lemmatizing کلمات مشابه مثل هم خانواده ها را یک کلمه در نظر می گیرد و به عنوان خروجی تحویل می دهد.\n",
    "</font>\n",
    "</p>"
   ]
  },
  {
   "cell_type": "code",
   "execution_count": 6,
   "id": "6ad6d086",
   "metadata": {
    "scrolled": true
   },
   "outputs": [],
   "source": [
    "train = pd.read_csv('Dataset/train.csv')"
   ]
  },
  {
   "cell_type": "code",
   "execution_count": 7,
   "id": "0c2a2bcf",
   "metadata": {},
   "outputs": [],
   "source": [
    "test = pd.read_csv('Dataset/test.csv')"
   ]
  },
  {
   "cell_type": "code",
   "execution_count": 8,
   "id": "fb6da4fc",
   "metadata": {},
   "outputs": [],
   "source": [
    "def preprocess(df):\n",
    "    stop_words = set(hazm.stopwords_list())\n",
    "    stop_words.add('توانست')\n",
    "    stop_words.add('هست')\n",
    "    stop_words.add('کاهش')\n",
    "    stop_punctuations = set('''!()-[]{};:'\"\\,٬٫،<>./?@#$%٪^&*×ـ+=_~.؟؛«»|…''')\n",
    "    ### Normalizing ###\n",
    "    for col in df:\n",
    "        for cell in range(len(df)):\n",
    "            df[col][cell] = hazm_normalizer.normalize(df[col][cell])\n",
    "            \n",
    "    ### Tokenizing ###\n",
    "    for cell in range(len(df)):\n",
    "        df['content'][cell] = hazm.word_tokenize(df['content'][cell])\n",
    "    \n",
    "    ### Lemmatizing ###\n",
    "    for cell in range(len(df)):\n",
    "        temp = []\n",
    "        for word in df['content'][cell]:\n",
    "            word = hazm_lemmatizer.lemmatize(word).split('#')\n",
    "            if (len(word) == 1) :\n",
    "                word = word[0]\n",
    "            else:\n",
    "                if (word[0] != '') :\n",
    "                    word = word[0]\n",
    "                else :\n",
    "                    word = word[1]\n",
    "            if (word not in stop_words) and (word not in stop_punctuations) and (word.isdigit() == False):\n",
    "                temp.append(word)\n",
    "        df['content'][cell] = temp\n",
    "    return df"
   ]
  },
  {
   "cell_type": "code",
   "execution_count": 9,
   "id": "33b85300",
   "metadata": {},
   "outputs": [],
   "source": [
    "train_preprocessed = preprocess(train)"
   ]
  },
  {
   "cell_type": "code",
   "execution_count": 10,
   "id": "f1ad56af",
   "metadata": {},
   "outputs": [],
   "source": [
    "test_preprocessed = preprocess(test)"
   ]
  },
  {
   "cell_type": "markdown",
   "id": "258617c1",
   "metadata": {
    "direction": "rtl"
   },
   "source": [
    "## فاز دوم : فرآیند مسئله\n",
    "<div align=center><img src='bayes.png'/></div><br/>"
   ]
  },
  {
   "cell_type": "markdown",
   "id": "ee71866b",
   "metadata": {
    "direction": "rtl"
   },
   "source": [
    "<p dir=rtl style=\"direction: rtl;text-align: right;line-height:200%;font-family:vazir;font-size:medium\">\n",
    "<font  size=3>\n",
    "در رابطه بالا x در واقع همان کلمه دیده شده در یک متن خبر(در حالت bigram می تواند مجموعه ای از کلمات پشت هم باشد) و c تیتر همان خبر است.\n",
    "    \n",
    "2)    \n",
    "Posterior همان P(c|x) می باشد که به معنی روبه رو است : احتمال اینکه تیتر خبر c باشد به شرط اینکه کلمه x در آن دیده شود. برای حساب کردن این احتمال می توانیم از دو رابطه استفاده کنیم که در عکس بالا آورده شده است.(در این مساله از رابطه دوم برای محاسبه این احتمال استفاده می کنیم.)\n",
    "    \n",
    "Liklelihood همان P(x|c) می باشد که به معنی رو به رو است : احتمال اینکه کلمه x در یک خبر دیده شود به شرط اینکه تیتر آن خبر c باشد. برای محاسبه این احتمال ، به طور کلی می توانیم کل کلمات و تعداد بار های تکرار آن ها در تمامی خبرهای با تیتر c را داشته باشیم و برای محاسبه ، تعداد تکرار کلمه x را تقسیم بر تعداد تکرار کل کلمات در خبرهایی با تیتر c می کنیم.\n",
    "    \n",
    "Prior همان P(c) می باشد که به معنی رو به رو است : احتمال اینکه تیتر خبر c باشد. در این مساله چون به تعداد مساوی خبر از هر تیتر داریم و کلا 6 تیتر داریم پس این احتمال برابر است با 1/6.\n",
    "    \n",
    "Evidence همان P(x) می باشد که به معنی رو به رو است : احتمال اینکه کلمه x را ببینیم. در واقع در این مساله برای محسابه آن باید احتمال وجود کلمه x در تمام متن های خبری با هر کدام از تیتر ها را با هم جمع کنیم.\n",
    "</font>\n",
    "</p>"
   ]
  },
  {
   "cell_type": "code",
   "execution_count": 11,
   "id": "035040ed",
   "metadata": {},
   "outputs": [],
   "source": [
    "words = dict()\n",
    "for label in train_preprocessed['label'].unique():\n",
    "    words[label] = dict()\n",
    "for row in range(len(train_preprocessed)):\n",
    "    for word in train_preprocessed['content'][row]:\n",
    "        if word in words[train_preprocessed['label'][row]]:\n",
    "            words[train_preprocessed['label'][row]][word] += 1\n",
    "        else:\n",
    "            words[train_preprocessed['label'][row]][word] = 1"
   ]
  },
  {
   "cell_type": "code",
   "execution_count": 12,
   "id": "81181c81",
   "metadata": {},
   "outputs": [],
   "source": [
    "def categorise(df, dummy_labels):\n",
    "    for i in range(len(df['label'])):\n",
    "        df['dummy'][i] = dummy_labels[df['label'][i]]\n",
    "    return df"
   ]
  },
  {
   "cell_type": "code",
   "execution_count": 13,
   "id": "b88f132f",
   "metadata": {},
   "outputs": [
    {
     "name": "stderr",
     "output_type": "stream",
     "text": [
      "C:\\Users\\USER\\AppData\\Local\\Temp\\ipykernel_20664\\2348710085.py:3: SettingWithCopyWarning: \n",
      "A value is trying to be set on a copy of a slice from a DataFrame\n",
      "\n",
      "See the caveats in the documentation: https://pandas.pydata.org/pandas-docs/stable/user_guide/indexing.html#returning-a-view-versus-a-copy\n",
      "  df['dummy'][i] = dummy_labels[df['label'][i]]\n"
     ]
    }
   ],
   "source": [
    "train_preprocessed['dummy'] = 1\n",
    "test_preprocessed['dummy'] = 1\n",
    "\n",
    "labels = train_preprocessed['label'].unique()\n",
    "dummy_labels ={}\n",
    "for i in range(len(labels)):\n",
    "    dummy_labels[labels[i]] = i\n",
    "\n",
    "train_preprocessed = categorise(train_preprocessed, dummy_labels)\n",
    "test_preprocessed = categorise(test_preprocessed, dummy_labels)"
   ]
  },
  {
   "cell_type": "code",
   "execution_count": 30,
   "id": "487b9169",
   "metadata": {},
   "outputs": [
    {
     "data": {
      "text/html": [
       "<div>\n",
       "<style scoped>\n",
       "    .dataframe tbody tr th:only-of-type {\n",
       "        vertical-align: middle;\n",
       "    }\n",
       "\n",
       "    .dataframe tbody tr th {\n",
       "        vertical-align: top;\n",
       "    }\n",
       "\n",
       "    .dataframe thead th {\n",
       "        text-align: right;\n",
       "    }\n",
       "</style>\n",
       "<table border=\"1\" class=\"dataframe\">\n",
       "  <thead>\n",
       "    <tr style=\"text-align: right;\">\n",
       "      <th></th>\n",
       "      <th>label</th>\n",
       "      <th>content</th>\n",
       "      <th>dummy</th>\n",
       "    </tr>\n",
       "  </thead>\n",
       "  <tbody>\n",
       "    <tr>\n",
       "      <th>0</th>\n",
       "      <td>فناوری</td>\n",
       "      <td>[اعلام, لیس, شرکت, مجاز, ثبت, سفارش, ارائه, خد...</td>\n",
       "      <td>0</td>\n",
       "    </tr>\n",
       "    <tr>\n",
       "      <th>1</th>\n",
       "      <td>فرهنگی/هنری</td>\n",
       "      <td>[استاد, علم, قرائت, قرآن, کریم, ریشه, موسیقی, ...</td>\n",
       "      <td>5</td>\n",
       "    </tr>\n",
       "    <tr>\n",
       "      <th>2</th>\n",
       "      <td>حوادث</td>\n",
       "      <td>[آتش, سوزی‌های, زنجیره, جنگل, زاگرس, استان, ای...</td>\n",
       "      <td>2</td>\n",
       "    </tr>\n",
       "    <tr>\n",
       "      <th>3</th>\n",
       "      <td>فناوری</td>\n",
       "      <td>[استفاده, سرویس‌های, iMassage, Facetime, محصول...</td>\n",
       "      <td>0</td>\n",
       "    </tr>\n",
       "    <tr>\n",
       "      <th>4</th>\n",
       "      <td>حوادث</td>\n",
       "      <td>[دادستان, عموم, انقلاب, یاسوج, میلیون, دلار, ج...</td>\n",
       "      <td>2</td>\n",
       "    </tr>\n",
       "    <tr>\n",
       "      <th>...</th>\n",
       "      <td>...</td>\n",
       "      <td>...</td>\n",
       "      <td>...</td>\n",
       "    </tr>\n",
       "    <tr>\n",
       "      <th>1110</th>\n",
       "      <td>ورزشی</td>\n",
       "      <td>[عضو, هیات, مدیره, باشگاه, استقلال, هیچوقت, دن...</td>\n",
       "      <td>1</td>\n",
       "    </tr>\n",
       "    <tr>\n",
       "      <th>1111</th>\n",
       "      <td>حوادث</td>\n",
       "      <td>[مدیر, آموزش, پرورش, شهرستان, جیرفت, دستگیر, د...</td>\n",
       "      <td>2</td>\n",
       "    </tr>\n",
       "    <tr>\n",
       "      <th>1112</th>\n",
       "      <td>سیاسی</td>\n",
       "      <td>[رییس, جمهور, هفته, گذشته, شهر, قرمزی, کشور, ا...</td>\n",
       "      <td>4</td>\n",
       "    </tr>\n",
       "    <tr>\n",
       "      <th>1113</th>\n",
       "      <td>فناوری</td>\n",
       "      <td>[دارندگان, مدل‌های, اعلام‌شده, گوشی‌های, هوآوی...</td>\n",
       "      <td>0</td>\n",
       "    </tr>\n",
       "    <tr>\n",
       "      <th>1114</th>\n",
       "      <td>سلامت</td>\n",
       "      <td>[مطالعه, نشان, احتمال, مثبت, نتیجه, آزمایش, اب...</td>\n",
       "      <td>3</td>\n",
       "    </tr>\n",
       "  </tbody>\n",
       "</table>\n",
       "<p>1115 rows × 3 columns</p>\n",
       "</div>"
      ],
      "text/plain": [
       "            label                                            content  dummy\n",
       "0          فناوری  [اعلام, لیس, شرکت, مجاز, ثبت, سفارش, ارائه, خد...      0\n",
       "1     فرهنگی/هنری  [استاد, علم, قرائت, قرآن, کریم, ریشه, موسیقی, ...      5\n",
       "2           حوادث  [آتش, سوزی‌های, زنجیره, جنگل, زاگرس, استان, ای...      2\n",
       "3          فناوری  [استفاده, سرویس‌های, iMassage, Facetime, محصول...      0\n",
       "4           حوادث  [دادستان, عموم, انقلاب, یاسوج, میلیون, دلار, ج...      2\n",
       "...           ...                                                ...    ...\n",
       "1110        ورزشی  [عضو, هیات, مدیره, باشگاه, استقلال, هیچوقت, دن...      1\n",
       "1111        حوادث  [مدیر, آموزش, پرورش, شهرستان, جیرفت, دستگیر, د...      2\n",
       "1112        سیاسی  [رییس, جمهور, هفته, گذشته, شهر, قرمزی, کشور, ا...      4\n",
       "1113       فناوری  [دارندگان, مدل‌های, اعلام‌شده, گوشی‌های, هوآوی...      0\n",
       "1114        سلامت  [مطالعه, نشان, احتمال, مثبت, نتیجه, آزمایش, اب...      3\n",
       "\n",
       "[1115 rows x 3 columns]"
      ]
     },
     "execution_count": 30,
     "metadata": {},
     "output_type": "execute_result"
    }
   ],
   "source": [
    "test_preprocessed"
   ]
  },
  {
   "cell_type": "code",
   "execution_count": 15,
   "id": "a4302210",
   "metadata": {},
   "outputs": [
    {
     "data": {
      "text/html": [
       "<div>\n",
       "<style scoped>\n",
       "    .dataframe tbody tr th:only-of-type {\n",
       "        vertical-align: middle;\n",
       "    }\n",
       "\n",
       "    .dataframe tbody tr th {\n",
       "        vertical-align: top;\n",
       "    }\n",
       "\n",
       "    .dataframe thead th {\n",
       "        text-align: right;\n",
       "    }\n",
       "</style>\n",
       "<table border=\"1\" class=\"dataframe\">\n",
       "  <thead>\n",
       "    <tr style=\"text-align: right;\">\n",
       "      <th></th>\n",
       "      <th>label</th>\n",
       "      <th>content</th>\n",
       "      <th>dummy</th>\n",
       "    </tr>\n",
       "  </thead>\n",
       "  <tbody>\n",
       "    <tr>\n",
       "      <th>0</th>\n",
       "      <td>فناوری</td>\n",
       "      <td>[گزارش, منتشر, حاکی, کاربر, تلگرام, مناطق, جها...</td>\n",
       "      <td>0</td>\n",
       "    </tr>\n",
       "    <tr>\n",
       "      <th>1</th>\n",
       "      <td>ورزشی</td>\n",
       "      <td>[سوپر, استار, سینما, قهرمان, سابق, ووشو, کونگ‌...</td>\n",
       "      <td>1</td>\n",
       "    </tr>\n",
       "    <tr>\n",
       "      <th>2</th>\n",
       "      <td>حوادث</td>\n",
       "      <td>[مدیرعامل, شرکت, عمران, آب, کیش, فوت, نفر, آتش...</td>\n",
       "      <td>2</td>\n",
       "    </tr>\n",
       "    <tr>\n",
       "      <th>3</th>\n",
       "      <td>فناوری</td>\n",
       "      <td>[نوجوان, انگلیسی, اتهام, هک, حساب, کاربر, ایمی...</td>\n",
       "      <td>0</td>\n",
       "    </tr>\n",
       "    <tr>\n",
       "      <th>4</th>\n",
       "      <td>سلامت</td>\n",
       "      <td>[دانشمند, مطالعات, اثرات, ویروس, کرونا, گوش, ک...</td>\n",
       "      <td>3</td>\n",
       "    </tr>\n",
       "    <tr>\n",
       "      <th>...</th>\n",
       "      <td>...</td>\n",
       "      <td>...</td>\n",
       "      <td>...</td>\n",
       "    </tr>\n",
       "    <tr>\n",
       "      <th>8995</th>\n",
       "      <td>حوادث</td>\n",
       "      <td>[شانزدهم, مهر, امسال, درپی, تماس, مرکز, فوریت,...</td>\n",
       "      <td>2</td>\n",
       "    </tr>\n",
       "    <tr>\n",
       "      <th>8996</th>\n",
       "      <td>ورزشی</td>\n",
       "      <td>[اتحادیه, فوتبال, ترینیداد, توباگو, اعلام, تیم...</td>\n",
       "      <td>1</td>\n",
       "    </tr>\n",
       "    <tr>\n",
       "      <th>8997</th>\n",
       "      <td>فرهنگی/هنری</td>\n",
       "      <td>[اسامی, فیلم, مسابقه, مستند, ششمین, دوره, جشنو...</td>\n",
       "      <td>5</td>\n",
       "    </tr>\n",
       "    <tr>\n",
       "      <th>8998</th>\n",
       "      <td>حوادث</td>\n",
       "      <td>[کامیونت, حامل, تخته, چوب, عصر, دیروز, چهارشنب...</td>\n",
       "      <td>2</td>\n",
       "    </tr>\n",
       "    <tr>\n",
       "      <th>8999</th>\n",
       "      <td>فناوری</td>\n",
       "      <td>[چهارمین, لیگ, بازی, رایانه, ایران, روز, شهریو...</td>\n",
       "      <td>0</td>\n",
       "    </tr>\n",
       "  </tbody>\n",
       "</table>\n",
       "<p>9000 rows × 3 columns</p>\n",
       "</div>"
      ],
      "text/plain": [
       "            label                                            content  dummy\n",
       "0          فناوری  [گزارش, منتشر, حاکی, کاربر, تلگرام, مناطق, جها...      0\n",
       "1           ورزشی  [سوپر, استار, سینما, قهرمان, سابق, ووشو, کونگ‌...      1\n",
       "2           حوادث  [مدیرعامل, شرکت, عمران, آب, کیش, فوت, نفر, آتش...      2\n",
       "3          فناوری  [نوجوان, انگلیسی, اتهام, هک, حساب, کاربر, ایمی...      0\n",
       "4           سلامت  [دانشمند, مطالعات, اثرات, ویروس, کرونا, گوش, ک...      3\n",
       "...           ...                                                ...    ...\n",
       "8995        حوادث  [شانزدهم, مهر, امسال, درپی, تماس, مرکز, فوریت,...      2\n",
       "8996        ورزشی  [اتحادیه, فوتبال, ترینیداد, توباگو, اعلام, تیم...      1\n",
       "8997  فرهنگی/هنری  [اسامی, فیلم, مسابقه, مستند, ششمین, دوره, جشنو...      5\n",
       "8998        حوادث  [کامیونت, حامل, تخته, چوب, عصر, دیروز, چهارشنب...      2\n",
       "8999       فناوری  [چهارمین, لیگ, بازی, رایانه, ایران, روز, شهریو...      0\n",
       "\n",
       "[9000 rows x 3 columns]"
      ]
     },
     "execution_count": 15,
     "metadata": {},
     "output_type": "execute_result"
    }
   ],
   "source": [
    "train_preprocessed"
   ]
  },
  {
   "cell_type": "code",
   "execution_count": 16,
   "id": "7a926ac1",
   "metadata": {},
   "outputs": [
    {
     "data": {
      "text/plain": [
       "[333495, 215608, 173708, 397602, 350040, 315394]"
      ]
     },
     "execution_count": 16,
     "metadata": {},
     "output_type": "execute_result"
    }
   ],
   "source": [
    "number_words_inclass = []\n",
    "for label in words.keys():\n",
    "    number_words_inclass.append(sum(words[label].values())) \n",
    "number_words_inclass"
   ]
  },
  {
   "cell_type": "code",
   "execution_count": 17,
   "id": "dfd82c2e",
   "metadata": {},
   "outputs": [],
   "source": [
    "probability_of_words = []\n",
    "for i in range(len(words.keys())):\n",
    "    temp = words[list(words.keys())[i]].copy()\n",
    "    for key in temp.keys():\n",
    "        temp[key] =temp[key]/number_words_inclass[i]\n",
    "    probability_of_words.append(temp)"
   ]
  },
  {
   "cell_type": "code",
   "execution_count": 18,
   "id": "650f3e90",
   "metadata": {},
   "outputs": [],
   "source": [
    "test_labels = test_preprocessed['dummy'].tolist()\n",
    "test_contents = test_preprocessed['content'].tolist()"
   ]
  },
  {
   "cell_type": "code",
   "execution_count": 19,
   "id": "7ebad177",
   "metadata": {},
   "outputs": [],
   "source": [
    "def predictor_without_smoothing(test_content, prob_of_words_oneclass):\n",
    "    prob = 1/6\n",
    "    prob_of_words = []\n",
    "    for i in range(len(test_content)):\n",
    "        word = test_content[i]\n",
    "        if(word in prob_of_words_oneclass):\n",
    "            prob_of_words.append(math.log(prob_of_words_oneclass[word]))\n",
    "    prob = prob * sum(prob_of_words)\n",
    "    return prob"
   ]
  },
  {
   "cell_type": "code",
   "execution_count": 20,
   "id": "49df4c5e",
   "metadata": {},
   "outputs": [],
   "source": [
    "predicted_without_smoothing = []\n",
    "for i in range(len(test_contents)):\n",
    "    prob_of_content_in_classes = []\n",
    "    for j in range(len(probability_of_words)):\n",
    "        temp = predictor_without_smoothing(test_contents[i],probability_of_words[j])         \n",
    "        prob_of_content_in_classes.append(temp)\n",
    "    predicted_without_smoothing.append(prob_of_content_in_classes.index(max(prob_of_content_in_classes)))"
   ]
  },
  {
   "cell_type": "code",
   "execution_count": 21,
   "id": "694af301",
   "metadata": {},
   "outputs": [],
   "source": [
    "def predictor_with_smoothing(test_feature, prob_of_words_oneclass, number_words_inclass):\n",
    "    prob = 1/6\n",
    "    prob_of_words = []\n",
    "    count = 0\n",
    "    alpha = 1\n",
    "    for i in range(len(test_feature)):\n",
    "        word = test_feature[i]\n",
    "        if(word in prob_of_words_oneclass):\n",
    "            prob_of_words.append(math.log(prob_of_words_oneclass[word]))\n",
    "        else:\n",
    "            count += 1\n",
    "    for i in range(count):\n",
    "        prob_of_words.append(math.log(alpha/(number_words_inclass + alpha*len(prob_of_words_oneclass.keys()))))\n",
    "    prob = prob * sum(prob_of_words)\n",
    "    return prob"
   ]
  },
  {
   "cell_type": "code",
   "execution_count": 22,
   "id": "42f06ee6",
   "metadata": {},
   "outputs": [],
   "source": [
    "predicted_with_smoothing = []\n",
    "for i in range(len(test_contents)):\n",
    "    prob_of_content_in_classes = []\n",
    "    for j in range(len(probability_of_words)):\n",
    "        temp = predictor_with_smoothing(test_contents[i],probability_of_words[j], number_words_inclass[j])                      \n",
    "        prob_of_content_in_classes.append(temp)\n",
    "    predicted_with_smoothing.append(prob_of_content_in_classes.index(max(prob_of_content_in_classes)))"
   ]
  },
  {
   "cell_type": "markdown",
   "id": "0665af99",
   "metadata": {
    "direction": "rtl"
   },
   "source": [
    "## Bigrams  \n",
    "<p dir=rtl style=\"direction: rtl;text-align: right;line-height:200%;font-family:vazir;font-size:medium\">\n",
    "<font  size=3>\n",
    "3) اگر دو عبارت \"شانه بدن\" و \"شانه سر\" را در نظر بگیریم کلمه شانه در هر دو یکسان است اما دو معنی متفاوت می دهد. در واقع در این مثال با استفاده از bigram ها که ترکیب کلمه شانه با کلمه دوم است ، توانستیم معنی شانه را بفهمیم. در این مثال نیازی به n-gram طولانی تری نداریم و استفاده از bigram ها کافی است. ولی اگر 3 عبارت \"شیر فلکه\" و \"شیر جنگل\" و \"شیر پاکتی\" را در نظر بگیریم نیاز به 3-gram داریم تا معنی کلمه شیر را متوجه شویم.\n",
    "</font>\n",
    "</p>"
   ]
  },
  {
   "cell_type": "markdown",
   "id": "667e041b",
   "metadata": {
    "direction": "rtl"
   },
   "source": [
    "## Additive Smoothing \n",
    "<div align=center><img src='bayes.png'/></div><br/>\n",
    "<p dir=rtl style=\"direction: rtl;text-align: right;line-height:200%;font-family:vazir;font-size:medium\">\n",
    "<font  size=3>\n",
    "4) با توجه به فرمول بالا وقتی کلمه x در خبر با تیتر c دیده نشود احتمال P(x|c) صفر می شود بنابراین احتمال P(c|x) نیز صفر خواهد شد و مدل تشخیص می دهد که تیتر خبر قطعا c نخواهد بود در صورتی که احتمال زیادی وجود دارد که این حرف غلط باشد. در واقع اگر مثلا کلمه x فقط در خبرهایی با یک تیتر مشخص c آمده باشد ، مدل ما هر جا که کلمه x را ببیند با قاطعیت تشخیص می دهد که تیتر خبر c است در صورتی که نباید این طور باشد و برای رفع این مشکل از Additive Smoothing استفاده می کنیم.\n",
    "</font>\n",
    "</p>\n",
    "5) <div align=center><img src='smoothing.png'/></div><br/>\n",
    "<p dir=rtl style=\"direction: rtl;text-align: right;line-height:200%;font-family:vazir;font-size:medium\">\n",
    "برای اینکه از Additive Smoothing در این مساله حساب کنیم ، بجای اینکه احتمال حضور کلمات در هر کلاس را با روش ساده قبلی حساب کنیم ، از فرمول بالا برای بدست آوردن این احتمال استفاده میکنیم. در این رابطه آلفا پارامتر Smoothing و d تعداد کلمه های یونیک در هر کلاس و N تعداد کل تکرار کلمات در هر کلاس و xi تعداد تکرار یک کلمه مشخص در یک کلاس می باشد.\n",
    "    \n",
    "با کمک گرفتن از این روش مشکل گفته شده در بالا (احتمال صفر برای حضور نداشتن یک کلمه در یک کلاس) حل می شود و برای تمامی کلمه ها یک احتمال غیر صفر در نظر می گیریم و به دقیق تر شدن نتایج ما خیلی کمک می کند که در ادامه خواهیم دید.\n",
    "</font>\n",
    "</p>"
   ]
  },
  {
   "cell_type": "markdown",
   "id": "bf40a74b",
   "metadata": {
    "direction": "rtl"
   },
   "source": [
    "## بررسی صحت"
   ]
  },
  {
   "cell_type": "markdown",
   "id": "d8e9f376",
   "metadata": {
    "direction": "rtl"
   },
   "source": [
    "<p dir=rtl style=\"direction: rtl;text-align: right;line-height:200%;font-family:vazir;font-size:medium\">\n",
    "<font  size=3>\n",
    "6)\n",
    "</font>\n",
    "</p>"
   ]
  },
  {
   "cell_type": "code",
   "execution_count": 23,
   "id": "314ffd67",
   "metadata": {},
   "outputs": [
    {
     "data": {
      "image/png": "[encoded data removed]",
      "text/plain": [
       "<Figure size 600x500 with 1 Axes>"
      ]
     },
     "metadata": {},
     "output_type": "display_data"
    },
    {
     "data": {
      "image/png": "[encoded data removed]",
      "text/plain": [
       "<Figure size 600x500 with 1 Axes>"
      ]
     },
     "metadata": {},
     "output_type": "display_data"
    },
    {
     "data": {
      "image/png": "[encoded data removed]",
      "text/plain": [
       "<Figure size 600x500 with 1 Axes>"
      ]
     },
     "metadata": {},
     "output_type": "display_data"
    },
    {
     "data": {
      "image/png": "[encoded data removed]",
      "text/plain": [
       "<Figure size 600x500 with 1 Axes>"
      ]
     },
     "metadata": {},
     "output_type": "display_data"
    },
    {
     "data": {
      "image/png": "[encoded data removed]",
      "text/plain": [
       "<Figure size 600x500 with 1 Axes>"
      ]
     },
     "metadata": {},
     "output_type": "display_data"
    },
    {
     "data": {
      "image/png": "[encoded data removed]",
      "text/plain": [
       "<Figure size 600x500 with 1 Axes>"
      ]
     },
     "metadata": {},
     "output_type": "display_data"
    }
   ],
   "source": [
    "for title in words.keys():\n",
    "    sorted_words = dict(sorted(words[title].items(), key=lambda x: x[1], reverse=True)[:6])\n",
    "    plt.figure(figsize=(6,5))\n",
    "    plt.bar(sorted_words.keys(), sorted_words.values())\n",
    "    plt.title(title)\n",
    "    plt.show()"
   ]
  },
  {
   "cell_type": "markdown",
   "id": "87a9af1b",
   "metadata": {
    "direction": "rtl"
   },
   "source": [
    "## فاز دوم : ارزیابی\n",
    "<div align=center><img src='evaluation.png'/></div><br/>\n",
    "<p dir=rtl style=\"direction: rtl;text-align: right;line-height:200%;font-family:vazir;font-size:medium\">\n",
    "<font  size=3>\n",
    "7) همانطور که در شکل بالا می بینیم رابطه Precision اهمیتی به False Negative ها نمی دهد. یعنی در این مساله به تعداد خبرهایی که یک تیتری داشته اند ولی ما تیتر آنها را اشتباه تشخیص داده ایم اهمیتی نمی دهد. به عنوان مثال اگر در کل 50 تا خبر با تیتر فناوری داشته باشیم و مدل ما فقط تیتر یکی از این خبرها را به درستی فناوری پیش بینی کند و کلا تیتر هیچ مقاله دیگری را فناوری پیش بینی نکند بنابراین مقدار Precision در اینجا 1 خواهد بود که واضحا خوب نیست.\n",
    "همانطور که در شکل بالا می بینیم رابطه Recall اهمیتی به False Positive ها نمی دهد. یعنی در این مساله به تعداد خبرهایی که یک تیتر مشخصی نداشته اند ولی ما تیتر آنها را به اشتباه دقیقا همان تیتر تشخیص داده ایم اهمیتی نمی دهد. به عنوان مثال اگر مدل ما پیش بینی کند که تمام خبر ها تیتر فناوری دارند بنابراین مقدار  Recall در اینجا 1 خواهد بود که واضحا خوب نیست.    \n",
    "\n",
    "بنابراین هر کدام از این دو رابط یک چیزی را در نظر نمی گیرند و به تنهایی برای ارزیابی مدل کافی نیستند.\n",
    "</font>\n",
    "</p>    \n",
    "8)<div align=center><img src='F1score.png'/></div><br/>\n",
    "<p dir=rtl style=\"direction: rtl;text-align: right;line-height:200%;font-family:vazir;font-size:medium\">\n",
    "طبق رابطه بالا معیار F1 در واقع میانگین هارمونیک Precision و Recall است و نسبت به Accuracy دقت اندازه گیری بهتری از موارد طبقه بندی نادرست ارائه می دهد.\n",
    "    \n",
    "زمانی accuracy استفاده می شود که مثبت های واقعی و منفی های واقعی مهم تر هستند در حالی که معیار F1 زمانی استفاده می شود که منفی های کاذب و مثبت های غلط بسیار مهم هستند.\n",
    "    \n",
    "هنگامی که توزیع کلاس مشابه است می توان از accuracy استفاده کرد در حالی که معیار F1 معیار بهتری است وقتی کلاس های نامتعادل وجود دارد.\n",
    "    \n",
    "9) micro : در واقع همان معیار accuracy است که برابر است با تعداد خبرهایی که به درستی در دسته بندی مورد نظر تشخیص داده شده اند تقسیم بر تعداد کل نمونه ها\n",
    "    \n",
    "macro : میانگین حسابی مقادیر F1 برای کلاس ها.\n",
    "    \n",
    "weighted : میانگین وزن دار مقادیر F1 برای کلاس ها می باشد. به طوری که هر کدام از وزن ها را می توان تعداد دیتاهای یک کلاس تقسیم بر تعداد کل دیتاها تعریف کرد.\n",
    "</font>\n",
    "</p>"
   ]
  },
  {
   "cell_type": "code",
   "execution_count": 24,
   "id": "8e4ae48b",
   "metadata": {},
   "outputs": [],
   "source": [
    "def accuracy_precision_recall_F1(test_labels, predicted, Class):\n",
    "    accuracy = 0\n",
    "    precision = 0\n",
    "    recall = 0\n",
    "    F1 = 0\n",
    "    \n",
    "    correct_detected = 0\n",
    "    for i in range(len(test_labels)):\n",
    "        if(test_labels[i] == predicted[i]):\n",
    "            correct_detected +=1\n",
    "            \n",
    "    correct_detected_class = 0\n",
    "    for i in range(len(predicted)):\n",
    "        if(test_labels[i] == predicted[i]):\n",
    "            if(predicted[i] == Class):\n",
    "                correct_detected_class += 1\n",
    "                \n",
    "    all_detected_class = 0\n",
    "    for i in range(len(predicted)):\n",
    "        if(predicted[i] == Class):\n",
    "            all_detected_class += 1\n",
    "            \n",
    "    total_class = 0\n",
    "    for i in range(len(test_labels)):\n",
    "        if(test_labels[i] == Class):\n",
    "            total_class += 1\n",
    "    \n",
    "    accuracy = correct_detected/(len(test_labels)) \n",
    "    precision = correct_detected_class/all_detected_class\n",
    "    recall = correct_detected_class/total_class\n",
    "    F1 = 2*((precision*recall)/(precision+recall))\n",
    "    \n",
    "    return accuracy, precision, recall, F1"
   ]
  },
  {
   "cell_type": "markdown",
   "id": "0bc27637",
   "metadata": {
    "direction": "rtl"
   },
   "source": [
    "<p dir=rtl style=\"direction: rtl;text-align: right;line-height:200%;font-family:vazir;font-size:medium\">\n",
    "<font  size=3>\n",
    "10)\n",
    "\n",
    "الف) بدست آوردن معیارها بدون استفاده از Additive Smoothing\n",
    "</font>\n",
    "</p>"
   ]
  },
  {
   "cell_type": "code",
   "execution_count": 27,
   "id": "bc6ba170",
   "metadata": {},
   "outputs": [
    {
     "name": "stdout",
     "output_type": "stream",
     "text": [
      "class فناوری precision :  0.3614457831325301 \n",
      "class فناوری recall :  0.17857142857142858 \n",
      "class فناوری F1 :  0.23904382470119526\n",
      "\n",
      "class ورزشی precision :  0.30514705882352944 \n",
      "class ورزشی recall :  0.4368421052631579 \n",
      "class ورزشی F1 :  0.3593073593073593\n",
      "\n",
      "class حوادث precision :  0.2665289256198347 \n",
      "class حوادث recall :  0.645 \n",
      "class حوادث F1 :  0.3771929824561404\n",
      "\n",
      "class سلامت precision :  0.44339622641509435 \n",
      "class سلامت recall :  0.2655367231638418 \n",
      "class سلامت F1 :  0.3321554770318021\n",
      "\n",
      "class سیاسی precision :  0.6335877862595419 \n",
      "class سیاسی recall :  0.415 \n",
      "class سیاسی F1 :  0.5015105740181269\n",
      "\n",
      "class فرهنگی/هنری precision :  0.717948717948718 \n",
      "class فرهنگی/هنری recall :  0.15555555555555556 \n",
      "class فرهنگی/هنری F1 :  0.2557077625570776\n",
      "\n",
      "accuracy :  0.35874439461883406\n",
      "macro :  0.34415299667861693\n",
      "micro :  0.35874439461883406\n",
      "weighted :  0.3421200345901906\n"
     ]
    }
   ],
   "source": [
    "accuracy, precision_class0, recall_class0, F1_class0 = accuracy_precision_recall_F1(test_labels, predicted_without_smoothing, 0)                \n",
    "print(\"class فناوری precision : \",precision_class0,\"\\nclass فناوری recall : \",recall_class0,\"\\nclass فناوری F1 : \",F1_class0)   \n",
    "print()\n",
    "accuracy, precision_class1, recall_class1, F1_class1 = accuracy_precision_recall_F1(test_labels, predicted_without_smoothing, 1)                \n",
    "print(\"class ورزشی precision : \",precision_class1,\"\\nclass ورزشی recall : \",recall_class1,\"\\nclass ورزشی F1 : \",F1_class1)   \n",
    "print()\n",
    "accuracy, precision_class2, recall_class2, F1_class2 = accuracy_precision_recall_F1(test_labels, predicted_without_smoothing, 2)                \n",
    "print(\"class حوادث precision : \",precision_class2,\"\\nclass حوادث recall : \",recall_class2,\"\\nclass حوادث F1 : \",F1_class2)   \n",
    "print()\n",
    "accuracy, precision_class3, recall_class3, F1_class3 = accuracy_precision_recall_F1(test_labels, predicted_without_smoothing, 3)                \n",
    "print(\"class سلامت precision : \",precision_class3,\"\\nclass سلامت recall : \",recall_class3,\"\\nclass سلامت F1 : \",F1_class3)   \n",
    "print()\n",
    "accuracy, precision_class4, recall_class4, F1_class4 = accuracy_precision_recall_F1(test_labels, predicted_without_smoothing, 4)                \n",
    "print(\"class سیاسی precision : \",precision_class4,\"\\nclass سیاسی recall : \",recall_class4,\"\\nclass سیاسی F1 : \",F1_class4)   \n",
    "print()\n",
    "accuracy, precision_class5, recall_class5, F1_class5 = accuracy_precision_recall_F1(test_labels, predicted_without_smoothing, 5)                \n",
    "print(\"class فرهنگی/هنری precision : \",precision_class5,\"\\nclass فرهنگی/هنری recall : \",recall_class5,\"\\nclass فرهنگی/هنری F1 : \",F1_class5)   \n",
    "print()\n",
    "print(\"accuracy : \",accuracy)\n",
    "macro = (F1_class0 + F1_class1 + F1_class2 + F1_class3 + F1_class4 + F1_class5)/6\n",
    "print(\"macro : \",macro)\n",
    "micro = accuracy\n",
    "print(\"micro : \",micro)\n",
    "weighted =  (number_words_inclass[0]/sum(number_words_inclass))*F1_class0 + (number_words_inclass[1]/sum(number_words_inclass))*F1_class1 + (number_words_inclass[2]/sum(number_words_inclass))*F1_class2 + (number_words_inclass[3]/sum(number_words_inclass))*F1_class3 + (number_words_inclass[4]/sum(number_words_inclass))*F1_class4 + (number_words_inclass[5]/sum(number_words_inclass))*F1_class5\n",
    "print(\"weighted : \",weighted)"
   ]
  },
  {
   "cell_type": "markdown",
   "id": "6e68a967",
   "metadata": {
    "direction": "rtl"
   },
   "source": [
    "<p dir=rtl style=\"direction: rtl;text-align: right;line-height:200%;font-family:vazir;font-size:medium\">\n",
    "<font  size=3>\n",
    "الف) بدست آوردن معیارها با استفاده از Additive Smoothing\n",
    "</font>\n",
    "</p>"
   ]
  },
  {
   "cell_type": "code",
   "execution_count": 28,
   "id": "8ca3d9b3",
   "metadata": {},
   "outputs": [
    {
     "name": "stdout",
     "output_type": "stream",
     "text": [
      "class فناوری precision :  0.9565217391304348 \n",
      "class فناوری recall :  0.9166666666666666 \n",
      "class فناوری F1 :  0.9361702127659574\n",
      "\n",
      "class ورزشی precision :  0.983957219251337 \n",
      "class ورزشی recall :  0.968421052631579 \n",
      "class ورزشی F1 :  0.9761273209549072\n",
      "\n",
      "class حوادث precision :  0.8935185185185185 \n",
      "class حوادث recall :  0.965 \n",
      "class حوادث F1 :  0.9278846153846153\n",
      "\n",
      "class سلامت precision :  0.9824561403508771 \n",
      "class سلامت recall :  0.9491525423728814 \n",
      "class سلامت F1 :  0.9655172413793103\n",
      "\n",
      "class سیاسی precision :  0.8925233644859814 \n",
      "class سیاسی recall :  0.955 \n",
      "class سیاسی F1 :  0.9227053140096618\n",
      "\n",
      "class فرهنگی/هنری precision :  0.963855421686747 \n",
      "class فرهنگی/هنری recall :  0.8888888888888888 \n",
      "class فرهنگی/هنری F1 :  0.9248554913294798\n",
      "\n",
      "accuracy :  0.9417040358744395\n",
      "macro :  0.9422100326373218\n",
      "micro :  0.9417040358744395\n",
      "weighted :  0.9420847096348499\n"
     ]
    }
   ],
   "source": [
    "accuracy, precision_class0, recall_class0, F1_class0 = accuracy_precision_recall_F1(test_labels, predicted_with_smoothing, 0)                \n",
    "print(\"class فناوری precision : \",precision_class0,\"\\nclass فناوری recall : \",recall_class0,\"\\nclass فناوری F1 : \",F1_class0)   \n",
    "print()\n",
    "accuracy, precision_class1, recall_class1, F1_class1 = accuracy_precision_recall_F1(test_labels, predicted_with_smoothing, 1)                \n",
    "print(\"class ورزشی precision : \",precision_class1,\"\\nclass ورزشی recall : \",recall_class1,\"\\nclass ورزشی F1 : \",F1_class1)   \n",
    "print()\n",
    "accuracy, precision_class2, recall_class2, F1_class2 = accuracy_precision_recall_F1(test_labels, predicted_with_smoothing, 2)                \n",
    "print(\"class حوادث precision : \",precision_class2,\"\\nclass حوادث recall : \",recall_class2,\"\\nclass حوادث F1 : \",F1_class2)   \n",
    "print()\n",
    "accuracy, precision_class3, recall_class3, F1_class3 = accuracy_precision_recall_F1(test_labels, predicted_with_smoothing, 3)                \n",
    "print(\"class سلامت precision : \",precision_class3,\"\\nclass سلامت recall : \",recall_class3,\"\\nclass سلامت F1 : \",F1_class3)   \n",
    "print()\n",
    "accuracy, precision_class4, recall_class4, F1_class4 = accuracy_precision_recall_F1(test_labels, predicted_with_smoothing, 4)                \n",
    "print(\"class سیاسی precision : \",precision_class4,\"\\nclass سیاسی recall : \",recall_class4,\"\\nclass سیاسی F1 : \",F1_class4)   \n",
    "print()\n",
    "accuracy, precision_class5, recall_class5, F1_class5 = accuracy_precision_recall_F1(test_labels, predicted_with_smoothing, 5)                \n",
    "print(\"class فرهنگی/هنری precision : \",precision_class5,\"\\nclass فرهنگی/هنری recall : \",recall_class5,\"\\nclass فرهنگی/هنری F1 : \",F1_class5)   \n",
    "print()\n",
    "print(\"accuracy : \",accuracy)\n",
    "macro = (F1_class0 + F1_class1 + F1_class2 + F1_class3 + F1_class4 + F1_class5)/6\n",
    "print(\"macro : \",macro)\n",
    "micro = accuracy\n",
    "print(\"micro : \",micro)\n",
    "weighted =  (number_words_inclass[0]/sum(number_words_inclass))*F1_class0 + (number_words_inclass[1]/sum(number_words_inclass))*F1_class1 + (number_words_inclass[2]/sum(number_words_inclass))*F1_class2 + (number_words_inclass[3]/sum(number_words_inclass))*F1_class3 + (number_words_inclass[4]/sum(number_words_inclass))*F1_class4 + (number_words_inclass[5]/sum(number_words_inclass))*F1_class5\n",
    "print(\"weighted : \",weighted)"
   ]
  },
  {
   "cell_type": "markdown",
   "id": "e49a3447",
   "metadata": {
    "direction": "rtl"
   },
   "source": [
    "<p dir=rtl style=\"direction: rtl;text-align: right;line-height:200%;font-family:vazir;font-size:medium\">\n",
    "<font  size=3>\n",
    "11) همانطور که در نتایج بالا مشاهده می کنیم تمامی معیارها بعد از استفاده از Additive Smoothing به شدت بهتر شده اند به عنوان مثال دقت مدل ما به 94.17% رسیده است.همچنین بیشترین F1 متعلق به کلاس ورزشی می باشد که 97.6% می باشد.\n",
    "</font>\n",
    "</p>"
   ]
  },
  {
   "cell_type": "markdown",
   "id": "7dacad54",
   "metadata": {
    "direction": "rtl"
   },
   "source": [
    "<p dir=rtl style=\"direction: rtl;text-align: right;line-height:200%;font-family:vazir;font-size:medium\">\n",
    "<font  size=3>\n",
    "12)\n",
    "</font>\n",
    "</p>"
   ]
  },
  {
   "cell_type": "code",
   "execution_count": 49,
   "id": "d039b225",
   "metadata": {},
   "outputs": [],
   "source": [
    "test = pd.read_csv('Dataset/test.csv')"
   ]
  },
  {
   "cell_type": "code",
   "execution_count": 61,
   "id": "21d8e20f",
   "metadata": {},
   "outputs": [
    {
     "name": "stdout",
     "output_type": "stream",
     "text": [
      "- چهارشنبه اول تیر 1401 اتفاق نادر و جالبی رخ داد که قطعا به صورت تصادفی و بدون برنامه‌ریزی و اطلاع قبلی بوده است: این که به شکل کاملا هم‌زمان در محل انجمن صنفی روزنامه‌نگاران استان تهران از رونمایی شد و در صدا‌و‌سیما و در جمع معاونان سازمان هم از کلیات « ».   اگرچه سه واژۀ در هر دو مشترک‌اند اما هیچ ربط و شباهتی به هم ندارند. چرا که در اولی منظور از سند است و در دومی سند (در حالی که به تعبیر دکتر وب‌2 را هم پشت سر گذاشته و به زودی وارد وب‌3 خواهیم شد) و خود رادیو و تلویزیون دیگر رسانۀ مدرن نیست و به تعبیری رسانۀ تلویزیون در معنی عام و جهانی نه مشخصا صدا و سیما هر چند در ایران همچنان رایگان‌ترین و گسترده‌ترین امکان وقت‌گذرانی و ارتباطی است. (رایگان از جهت پرداخت حق اشتراک وگرنه بودجۀ آن از جیب ملت تأمین می‌شود). در اولی منظور از رسانه واقعا رسانه است. یعنی بدون بودجۀ حکومتی و مخاطب‌محور و در دومی به جز تعبیر «رسانه ملی» در باقی موارد ترجیح می‌دهند از مفاهیم ایدیولوژیک استفاده کنند و آن را در واقع عرصۀ جنگ می‌دانند یا با واژه های جنگ و قرارگاه حجم عظیم پرسنل و بودجه های کلان و انحصار و چنگ انداختن به شبکۀ نمایش خانگی را توجیه می‌کنند. در اولی، مراد از واژۀ ملی واقعا ملی است چون معطوف به ایران است و در دومی مراد از ملی معطوف به نظام سیاسی است و گرنه اگر ملی بود به زبان ملی، سینمای ملی، موسیقی ملی و مانند اینها بها می‌داد نه آن که چندان که در نوشته‌ای آمد   آیین اولی دور از هر وابستگی دولتی و حکومتی و شایبۀ تبلیغاتی و در حضور چهره‌های شاخص رسانه‌ای و استادان شاخص ارتباطات و با معیارهای کاملا حرفه‌ای و جهانی و شناخته‌شده برگزار شد و دومی اگر چه ذیل عنوان «رسانه ملی» اما با اهداف سیاسی و ایدیولوژیک و جدای معیارهای شناخته شده رسانه‌ای و می توان حدس زد بی‌حضور عالمان این رشته و در نشستی کاملا اداری هر چند محتمل است برخی از معاونان تحصیلات مرتبط داشته باشند اما به این صفت حاضر نبودند.   این اتفاق نمادین اما نشان‌دهندۀ ریشۀ مشکل رسانه‌ها در ایران هم هست و آن هم نگاه غیر علمی به موضوع رسانه در عرصه رسمی و برخوردار از بودجه‌های کلان چند هزار میلیارد تومانی در سال و با قریب 50 هزار کارمند است حال آن که آن طرف با انواع محدودیت‌ها و مضیقه ها دست به گریبان است و چرخ اقتصاد نحیف آن با یارانه هم نمی‌گردد. جدای این زبان مشترک را هم دچار اختلال می کند. چون ما از سه واژۀ سند و رسانه و ملی یک مراد داریم و کارمندان ادارۀ سازمانی به نام صدا و سیما که همه باید حول این 12 محور فعالیت کنند یک منظور.   حاصل این چالش و کشاکش البته این شده که مردم هم از رسانه‌های چاپی و کاغذی روی‌گردان شده‌اند تا جایی که ایران به پایین‌ترین نرخ روزنامه‌خوانی در جهان – بله در جهان – سقوط کرده و هم از اخبار صدا‌و‌سیما تا جایی که برای اثبات مُردن حسین عبدالباقی ناچار شدند کشوی سردخانه را باز کنند و بگویند ایهاالناس! باور کنید این جنازه متعلق به مالک و سازندۀ متروپل آبادان است و ما دروغ نگفتیم هر چند روز دیگر گرفتار یک افتضاح یا رسوایی دیگر شدند. این که به جای کارشناس واقعی به کارمند خودشان گفته بودند انگلیسی حرف بزن و بنده خدا وسط ماجرا با فارسی حرف زدن لو داد!   نویسندۀ این سطور، خود یکی از سخنرانان و حاضران نشست رونمایی از سند ملی رسانه در محل انجمن صنفی روزنامه نگاران بود اما از استادان ارتباطات خصوصا دکتر محسنیان‌راد بسیار آموخت و همین مقدمه سند را با موازین حرفه‌ای بسیار منطبق یافت و می‌توان پیش بینی کرد متن کامل و مفصل آن که حاصل چند گزارش تخصصی پژوهشی است کاری بسیار درخور باشد.    در آن طرف هم آقای پیمان جبلی 12 محور تحول در محتوای برنامه های صدا وسیما را به این شرح اعلام کرده است:        هر قدر ادبیات سند ملی رسانه (روزنامه‌نگاران‌) عاری از مفاهیم سیاسی و ایدیولوژیک و کاملا منطبق با علوم ارتباطات و نظریات مدرن رسانه‌ها و مبتنی بر مشاوره‌های برجسته ترین استادان ارتباطات و روزنامه‌نگاری است سند تحول صدا و سیما پر است از نگاه ایدیولوژیک و سیاسی و بسیار دور از مفاهیم تخصصی رسانه‌ای و آدم را بیشتر یاد اهداف سازمان تبلیغات اسلامی می‌اندازد.    اگر صدا و سیما یک دستگاه وسیع و حجیم تبلیغاتی - پروپاگاندایی است نقدی به رویکرد صدا و سیما نیست اما چرا اصرار دارند خود را ذیل عنوان «رسانۀ ملی» توصیف کنند؟ حال آن که این دو واژه تعاریف خاص خود را دارد.  طبیعی است که آقای جبلی مأموریت دارد این سازمان را با این اهداف متحول کند اما این محورها به علم رسانه چه ارتباطی دارند و چگونه می‌توانند با رسانه‌های دیگر رقابت یا مقابله کنند؟    عین این 12 محور را سازمان تبلیغات اسلامی هم می‌تواند اعلام کند و بر این اساس می‌توان پیش‌بینی کرد چنانچه این اهداف محقق شود سازمان صدا وسیما به سازمان تبلیغات اسلامی تبدیل خواهد شد و هر قدر آن سازمان موفق بوده این سازمان هم موفق خواهد بود. (البته به لحاظ اداری و سازمانی در واقع شورای هماهنگی تبلیغات اسلامی. منظور تشکیلات تبلیغاتی است نه یک عنوان خاص).    منتها سازمان تبلیغات در طول سال با تعداد شرکت کنندگان در چند راه‌پیمایی مهم و سراسری و نوع برنامه‌یزی برای آنها یا جشن‌های دهۀ فجر ارزیابی می‌شود حال آن که سازمان صدا و سیما لحظه‌به‌لحظه زیر ذره بین مخاطبان داخلی و خارجی است و قاعدتا باید با مدل‌های رسانه ای برنامه‌ریزی شود نه تبلیغاتی.   اگر سه کارکرد مهم صدا و سیما را ا بدانیم چنان که طی 43 سال گذشته و از زبان رؤسای مختلف سازمان بارها اعلام شده مشخص نیست کدام یک از این 12 محور به اطلاع‌رسانی و سرگرمی و حتی آموزش معطوف است؟ مگر آن که آن سه رویکرد مربوط به ماقبل سند بوده باشند و من بعد قرار است از این قرار باشد.    اگر قرار بر تحولی این گونه است و با این اوصاف شاید بهتر باشد که صدا وسیما در سازمان تبلیغات اسلامی ادغام و نام آن به صدا وسیما و تبلیغات رسمی تغییر یابد چرا که هر چه باشد دیگر رسانه نخواهد بود آن هم از نوع ملی.کما این که فوتبال، باید فوتبال باشد حتی وقتی برای کمک به زلزله‌زده‌ها و دوستانه بازی می‌کنند نمی‌توان گفت چون دوستانه است بازیکنان می‌توانند با دست، توپ را لمس کنند. چون آن وقت دیگر فوتبال نیست و هند‌بال است. با این سند تحول هم صدا و سیما سازمان تبلیغات می‌شود.    البته این 12 رویکرد اگر محور شبکۀ افق یا برخی شبکه‌ها باشد مرتبط و خیلی هم منطقی است اما مشخص نیست چگونه می توان تمام صدا و سیما را ذیل آن برد؟    هر چند برخی معتقدند اگر قرار بر تحول با سند تحول بود آموزش و پرورش باید خیلی زودتر با سند تحول متحول می‌شد یا دانشگاه‌ها که مدام در حال تحول آنها هستند و چندان نباید جدی گرفت. روی کاغذ می‌نویسند و در عمل واقعیت‌ها خود را تحمیل می‌کنند.   نیکولو ماکیاولی در توصیه به شهریار می‌گفت پیمان‌ها برای شکسته‌شدن بسته می‌شوند. به این سیاق می‌توان گفت سندهای تحول هم برای متحول نشدن نوشته می‌شوند! آنتن صدا و سیما با این همه کانال و هزینه به خوراک‌های متنوع نیاز دارد و صبح تا شب که نمی‌توان به غرب فحش داد و تبلیغ مذهبی پخش کرد. طالبان اگر توانستند با ساز و کاری دیگر بود: تعطیل کردند!      چنان که در آغاز گفته شد تقارن عجیب این بود که درست در همان ساعتی که پیمان جبلی در جمع معاونان صدا وسیما از سند تحول در سازمان متبوع با رویکرد تمام ایدیولوژیک رونمایی می کرد استاد راهنمای پایان نامۀ او بر ضرورت به کارگیری معیارهای حرفه ای رسانه ای در سند ملی رسانه در جمع روزنامه نگاران پای می فشرد تا مشخص شود تفاوت نگاه از زمین تا آسمان است.   این یادداشت را به سه پرسش به پایان می‌برم:   اول: آیا پیش‌بینی می‌کنند اگر تمام شبکه‌های صدا‌و‌سیما از مضامینی چون «عدالت گستری، روایت پیشرفت همه جانبه جامعه ایرانی، ایثار، مقاومت شهادت و توسعه سبک زندگی ایثارگرانه، سبک زندگی و خانواده با محوریت سبک زندگی انقلابی، هنر انقلاب با معرفی شایسته آثار برجسته، نقد غرب و هجو غربزدگی، تقویت هویت جهانی امتی با بازنمایی قدرت نرم ایران اسلامی در جهان، روایت جوان مومن انقلابی با نگاه پیشرفت آینده، الگوی زن انقلاب اسلامی، مقابله با جریان ارتجاع و تطهیر پهلوی، روایت هوشمندانه و صحیح تاریخ اسلام و ایران، بسط الگوی حکمرانی مردمی ‌با بازخوانی نهادهای مردمی – انقلابی» پر شود شمار مخاطبان و اعتبار این سازمان افزایش می‌یابد؟ (اگر زیاد کند تمام این نوشته را پس می‌گیرم).   دوم: صدا وسیما ذیل عنوان رسانه قابل تعریف است یا قرارگاه فرهنگی یا سازمان تبلیغات اسلامی و اگر نمی‌خواهد رسانه باشد چرا در سازمان‌های دیگر ادغام نشود؟   پرسش سوم اما مهم‌تر این است: چرا سُرنا را از سر گشاد آن می‌نوازید؟ این که مردم پای ب صدا و سیمای ایدیولوژیک مثل با اجرای ، با ، با ، با ، با و مانند آن در ساعات پربینندۀ شب بنشینند آنان را از شبکه‌های فارسی زبان ماهواره‌ای دور می‌کند یا اگر مدام برنامه های ایدیولوژیک پخش کنید تا افراد، قید داخل را بزنند و بروند سراغ آن طرفی‌ها؟    آنچه با نگاه رسانه‌ای – امنیتی با هوش‌مندی می‌فهمید و مدیران دیگر سازمان کمتر می‌فهمند این است که غیرایدیولوژیک‌ترین برنامه صدا‌وسیما مثل برنامه‌های مدیری و فردوسی‌پور چون مردم را پای تلویزیون جمهوری اسلامی می‌نشاند و از من‌و‌تو و ایران اینترنشنال دور می‌کند به نفع جمهوری اسلامی است اما ایدیولوژیک‌ترین وشعاری‌ترین آنها چون سبب می‌شود مخاطب عام کانال را تغییر دهد به سود رقباست! یکی از این محورها است اما وقتی برنامۀ سرگرم‌کننده نداشته باشید و مردم را به من‌و‌تو سوق دهید از این فرصت بهره می‌برند و با مستندهای خود به تطهیر می‌پردازند و در واقع نقض غرض می‌شود. (نمی‌دانم می‌توانم مظورم را برسانم یا نه!چه کنیم زبان مشترک مختل شده است.)   سال 88 در سفر به هرات افغانستان وقتی مجری مراسم مدام به تعداد روزنامه ها و آزادی آنها می‌بالید تا به روزنامه‌های ایران و روزنامه‌نگاران میهمان طعنه بزند که دست‌شان زیر ساطور بود یکی از همکاران روزنامه‌نگار خانم -که شوربختانه بعدتر کوچید و ر‌فت- در واکنش گفت: وقتی 70 درصد مردم سواد نداشته باشند یا روزنامه نخوانند چه تفاوت دارد که این تعداد روزنامه داشته باشید یا نه‌!    حالا حکایت صدا وسیما و سند تحول آقای جبلی است. اگر دوشنبه شب خلق‌الله پای نود بنشینند می‌توانید چند تا شعار ایدیولوژیک را هم زیرنویس کنید و قبل و بعد آن مفاهیمی را به خورد خلق‌الله بدهید اما وقتی نود را حذف می‌کنید و آن پسر هر قدر هم تلاش کند نتواند جای عادل را بگیرد بینندۀ عام یک دگمه را فشار می‌دهد و در همان ساعت پای شبه نود مزدک میرزایی در ایران اینترنشنال می‌نشیند و آن وقت آنها هستند که به افکار عمومی جهت می‌دهند. تمام ظرافت سیاسی، فرهنگی و امنیتی و نگو رسانه‌ای در همین است.    این را خیلی خوب می‌فهمید و شنیدم هر وقت به قم می‌رفت و عالمی انتقاد می‌کرد که چرا در فلان سریال مثلا حجاب خانم کامل نیست یا وعظ و خطابه کم پخش می‌کنید توضیح می‌داد حاج آقا! حالا مثل قبل نیست. اگر بخواهیم فقط شما را نشان بدهیم آن وقت تلویزیون را خاموش می‌کنند. اما اگر برنامۀ سرگرم‌کننده داشته باشیم هم آن را  می‌بینند هم شما را!\n",
      "Predicted label:  سیاسی\n",
      "Real label:  فرهنگی/هنری\n",
      "\n",
      "\n",
      "اعتراض گسترده کاربران توییتر به اظهارات وزیر امورخارجه آمریکا هشتگ انگلیسی پرشین گلف (خلیج فارس) را در توییتر ترند کرد. به گزارش خبرآنلاین، رکس تیلرسون وزیر امورخارجه آمریکا در اظهارات اخیرش با به کار بردن واژه‌ای مجعول به جای خلیج فارس موجی از اعتراضات را در شبکه‌های اجتماعی برانگیخت. بسیاری از کاربران شبکه‌های اجتماعی به ویژه توییتر برای اعتراض به این موضوع از هشتگ انگلیسی «PersianGulf» استفاده کردند. همین موضوع سبب شد که این هشتگ مدتی در توییتر ترند شود.\n",
      "Predicted label:  سیاسی\n",
      "Real label:  فرهنگی/هنری\n",
      "\n",
      "\n",
      "ملی‌پوش سابق دوچرخه سواری ایران به علت تصادف دار فانی را وداع گفت‌.\n",
      "Predicted label:  ورزشی\n",
      "Real label:  حوادث\n",
      "\n",
      "\n",
      "وکیل مدافع نازنین زاغری متهم ایرانی - بریتانیایی از برگزاری دادگاه و اعلام ختم رسیدگی به دومین پرونده موکلش به اتهام فعالیت تبلیغی علیه نظام  در شعبه ۱۵ دادگاه انقلاب به ریاست قاضی صلواتی خبر داد.\n",
      "Predicted label:  حوادث\n",
      "Real label:  سیاسی\n",
      "\n",
      "\n",
      "- روز گذشته در حاشیه معرفی ساپینتو سر مربی باشگاه استقلال مصطفی آجورلو از یک خبر داد، مدیرعامل استقلال اعلام کرد شبکه ماهواره‌ای استقلال به صورت آزمایشی فعالیت خود را آغاز کرد.  آجرلو گفت: «می‌خواهم به همه هواداران یک خبر خوب و ویژه بدهم. شبکه استقلال از طریق ماهواره، هم اکنون فعالیت خود را به‌صورت آزمایشی آغاز کرد. ما از طریق ماهواره، کار شبکه تلویزیونی استقلال را به صورت آزمایشی آغاز کردیم. درباره تلویزیون باید بگویم که منافع استقلال که است گم شده است و من باید این مبلغ را از صدا و سیما بگیرم. من دست‌بوس همه عوامل صدا وسیما هستم اما این پول باید داده شود اما هنوز هیچ اقدامی انجام نشده است. من ولی کار خود را می‌کنم و شبکه استقلال را راه‌اندازی می‌کنم. تا هفته دیگر همه می‌تواند شبکه استقلال را ببیند. ما از تیم، قهرمانی می‌خواهیم و از دیگران هم می‌خواهیم حق استقلال را ضایع نکنند. [...] از هفته آینده همه مردم می توانند به شبکه ماهواره ای استقلال دسترسی داشته باشند.» بررسی‌ها نشان می‌دهد که شبکه استقلال در حال حاضر روی و همچنین تلویزیون‌های سامسونگ قابل دسترس است و قرار است بر روی هم پخش داشته باشد. این امر اتفاق مبارکی است، باشگاه استقلال به عنوان یکی از دو تیم اصلی و پر هوادار پایتخت، از این پتانسیل می‌تواند به خوبی بهره ببرد چه به لحاظ اطلاع رسانی درست و ارتباط مستقیم با هوادارن و چه از منظر اتفاقات فرهنگی ، ورزشی باشگاه و البته از همه مهمتر به عنوان یک بنگاه اقتصادی و درآمدزایی برای باشگاه. از جنبه‌های مختلف می توان به این شبکه تلویزیونی نگاه کرد و با برنامه‌های متنوع از اتفاقات روزمره استقلال گرفته تا پخش بازی‌های قدیمی استقلال، پرداختن به بازیکنان و پیشکسوتان باشگاه، تمرین‌های این تیم ، بازی‌های لیگ، پوشش تیم‌های پایه و ... همگی آیتم‌های جذاب و البته مورد نیاز برای باشگاهی چون استقلال است. چه نیکوست که باشگاه‌های پرطرفدار دیگر چون پرسپولیس، تراکتور، سپاهان و ... این راه را ادامه داده و هر کدام برای خود شبکه تلویزیونی درست کنند. قطعا چنین اتفاقی برای همه مثبت است، باشگاه ، هوادار، بازیکنان، و ...  یک نکته مثبت دیگر آن در فوتبال ایران است که سالهای مدیدی است حق پخش تلویزیونی مسابقات، نحوه پوشش اخبار ، اطلاع رسانی و ... مناقشه‌ای بی پایان برای فوتبال ایران را رقم زده است.  این نکته مثبت البته در چنین شرایطی احتمال دارد که چالش میان استقلال و صداسیما را بیشتر کند. در همین گفته‌ها آجرلو اشاره کرده است که باشگاه استقلال هزار میلیارد تومان از صداوسیما طلب دارد (گم شده است) وئولی هیچ اقدامی برای آن صورت نگرفته است. طبیعتا اگر شبکه‌های تلویزیونی دیگری وجود داشته باشد، صداوسیما از کنار چنین اتفاقاتی چنین چراغ خاموش و بی صدا عبور نخواهد کرد. امیدواریم که این اقدام شجاعانه آجرلو سرکوب نشود و تلویزیون باشگاه استقلال همچنان ادامه یابد، همچنین امیدواریم صداوسیما هم چوب لای چرخ آن نگذارد (مانند اتفاقاتی که برای پلتفرم‌های نمایش خانگی در حال رخ دادن است) ، این اتفاق حسن مضاعف است. اساسا وجود در کشور یکی از نکات مغفول مانده است که قطعا جای خالی آن احساس می‌شود، در هر پدیده‌ای وجود رقیب و فضای باز و سالم برای رقابت منجر به رشد و شکوفایی خواهد شد. در تمام دنیا باشگاه‌های ورزشی پرطرفدار چنین شبکه‌های تلویزیونی دارند ، حیف است که ورزش ایران و علی الخصوص فوتبال ایران تا به امروز از چنین امکانی محروم مانده است. اگر آجرلو این اتفاق را به نتیجه برساند و بتواند تداوم آن را رقم بزند، قطعا اسم او به عنوان آغازکننده راهی جدید در ورزش و رسانه کشور خواهد ماند.\n",
      "Predicted label:  ورزشی\n",
      "Real label:  فرهنگی/هنری\n",
      "\n",
      "\n"
     ]
    }
   ],
   "source": [
    "labels_dummy = {}\n",
    "for key, value in dummy_labels.items():\n",
    "    labels_dummy[value] = key\n",
    "indecies = []\n",
    "for i in range(len(predicted_with_smoothing)):\n",
    "    if(predicted_with_smoothing[i] != test_labels[i]):\n",
    "        indecies.append(i)\n",
    "for i in range(5):\n",
    "    print(test['content'][num_iteration[i]])\n",
    "    print(\"Predicted label: \", reverse[predicted_with_smoothing[num_iteration[i]]])\n",
    "    print(\"Real label: \", reverse[test_labels[num_iteration[i]]])\n",
    "    print()\n",
    "    print()"
   ]
  },
  {
   "cell_type": "markdown",
   "id": "5614bf19",
   "metadata": {
    "direction": "rtl"
   },
   "source": [
    "<p dir=rtl style=\"direction: rtl;text-align: right;line-height:200%;font-family:vazir;font-size:medium\">\n",
    "<font  size=3>\n",
    "بنظرم یکی از مهمترین دلایلی که باعث پیش بینی اشتباه تیتر خبر می شود این است که ما از bigram ها استفاده نمی کنیم و فقط به کلمات بدون توجه به بافت متن و معنی آن کلمه در آن متن دقت می کنیم و این باعث خطا در مدل ما می شود. قطعا اگر از bigram ها استفاده کنیم می توانیم تا حد خوبی این مشکل را حل کنیم. به عنوان مثال در جمله چهارم تیتر واقعی خبر حوادث می باشد اما به دلیل حضور کلمه های موثری مثل ایران در متن و دقت نکردن به بافت متن ، تیتر این خبر سیاسی پیش بینی می شود.\n",
    "</font>\n",
    "</p>"
   ]
  }
 ],
 "metadata": {
  "kernelspec": {
   "display_name": "Python 3 (ipykernel)",
   "language": "python",
   "name": "python3"
  },
  "language_info": {
   "codemirror_mode": {
    "name": "ipython",
    "version": 3
   },
   "file_extension": ".py",
   "mimetype": "text/x-python",
   "name": "python",
   "nbconvert_exporter": "python",
   "pygments_lexer": "ipython3",
   "version": "3.9.13"
  }
 },
 "nbformat": 4,
 "nbformat_minor": 5
}
